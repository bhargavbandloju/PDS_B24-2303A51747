{
  "nbformat": 4,
  "nbformat_minor": 0,
  "metadata": {
    "colab": {
      "provenance": [],
      "include_colab_link": true
    },
    "kernelspec": {
      "name": "python3",
      "display_name": "Python 3"
    },
    "language_info": {
      "name": "python"
    }
  },
  "cells": [
    {
      "cell_type": "markdown",
      "metadata": {
        "id": "view-in-github",
        "colab_type": "text"
      },
      "source": [
        "<a href=\"https://colab.research.google.com/github/bhargavbandloju/PDS_B24-2303A51747/blob/main/Lab_01.ipynb\" target=\"_parent\"><img src=\"https://colab.research.google.com/assets/colab-badge.svg\" alt=\"Open In Colab\"/></a>"
      ]
    },
    {
      "cell_type": "code",
      "execution_count": null,
      "metadata": {
        "colab": {
          "base_uri": "https://localhost:8080/"
        },
        "id": "HDiXFQYz50dK",
        "outputId": "8c1b077f-53fc-4f29-9777-3e1f7a8b8740"
      },
      "outputs": [
        {
          "output_type": "stream",
          "name": "stdout",
          "text": [
            "Enter the number:62\n",
            "The factorial of 62 is 31469973260387937525653122354950764088012280797258232192163168247821107200000000000000\n"
          ]
        }
      ],
      "source": [
        "def factorial(n):\n",
        "  if n==0 or n==1:\n",
        "    return 1\n",
        "  else:\n",
        "      return n* factorial(n-1)\n",
        "number = int(input(\"Enter the number:\"))\n",
        "if number < 0:\n",
        "        print(\"Factorial is not defined for negative numbers.\")\n",
        "else:\n",
        "          result=factorial(number)\n",
        "          print(f\"The factorial of {number} is {result}\")"
      ]
    },
    {
      "cell_type": "code",
      "source": [
        "def factorial(n, depth=0):\n",
        "    indent = \"  \" * depth\n",
        "    print(f\"{indent}factorial({n}) called\")\n",
        "\n",
        "    if n == 0 or n == 1:\n",
        "        print(f\"{indent}Base case reached: return 1\")\n",
        "        return 1\n",
        "    else:\n",
        "        print(f\"{indent}Recursive step: return {n} * factorial({n - 1})\")\n",
        "        result = n * factorial(n - 1, depth + 1)\n",
        "        print(f\"{indent}Returning: {n} * factorial({n - 1}) = {result}\")\n",
        "        return result\n",
        "\n",
        "number = int(input(\"Enter a number: \"))\n",
        "\n",
        "if number < 0:\n",
        "    print(\"Factorial is not defined for negative numbers.\")\n",
        "else:\n",
        "    result = factorial(number)\n",
        "    print(f\"The factorial of {number} is {result}\")"
      ],
      "metadata": {
        "colab": {
          "base_uri": "https://localhost:8080/"
        },
        "id": "TVzWfsA654m_",
        "outputId": "15e24649-98f5-4cf0-da25-02835d024885"
      },
      "execution_count": null,
      "outputs": [
        {
          "output_type": "stream",
          "name": "stdout",
          "text": [
            "Enter a number: 5\n",
            "factorial(5) called\n",
            "Recursive step: return 5 * factorial(4)\n",
            "  factorial(4) called\n",
            "  Recursive step: return 4 * factorial(3)\n",
            "    factorial(3) called\n",
            "    Recursive step: return 3 * factorial(2)\n",
            "      factorial(2) called\n",
            "      Recursive step: return 2 * factorial(1)\n",
            "        factorial(1) called\n",
            "        Base case reached: return 1\n",
            "      Returning: 2 * factorial(1) = 2\n",
            "    Returning: 3 * factorial(2) = 6\n",
            "  Returning: 4 * factorial(3) = 24\n",
            "Returning: 5 * factorial(4) = 120\n",
            "The factorial of 5 is 120\n"
          ]
        }
      ]
    }
  ]
}