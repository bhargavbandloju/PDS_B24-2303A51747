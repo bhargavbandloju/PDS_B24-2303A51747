{
  "nbformat": 4,
  "nbformat_minor": 0,
  "metadata": {
    "colab": {
      "provenance": [],
      "include_colab_link": true
    },
    "kernelspec": {
      "name": "python3",
      "display_name": "Python 3"
    },
    "language_info": {
      "name": "python"
    }
  },
  "cells": [
    {
      "cell_type": "markdown",
      "metadata": {
        "id": "view-in-github",
        "colab_type": "text"
      },
      "source": [
        "<a href=\"https://colab.research.google.com/github/bhargavbandloju/PDS_B24-2303A51747/blob/main/LAB_03.ipynb\" target=\"_parent\"><img src=\"https://colab.research.google.com/assets/colab-badge.svg\" alt=\"Open In Colab\"/></a>"
      ]
    },
    {
      "cell_type": "code",
      "execution_count": null,
      "metadata": {
        "id": "_wEsYBDK5H-I"
      },
      "outputs": [],
      "source": [
        "import numpy as np\n",
        "import matplotlib.pyplot as plt"
      ]
    },
    {
      "cell_type": "code",
      "source": [
        "scores = np.array([\n",
        "    [78, 85, 90, 95],\n",
        "    [88, 92, 80, 76],\n",
        "    [90, 87, 93, 89],\n",
        "    [65, 70, 72, 68]\n",
        "])\n",
        "\n",
        "row_mean = np.mean(scores, axis=1)\n",
        "print(\"\\nRow-wise Mean (Avg per student):\", row_mean)\n",
        "\n",
        "col_mean = np.mean(scores, axis=0)\n",
        "print(\"\\nColumn-wise Mean (Avg per test):\", col_mean)"
      ],
      "metadata": {
        "colab": {
          "base_uri": "https://localhost:8080/"
        },
        "id": "iZvVgbDY6RPD",
        "outputId": "334e8f36-3992-4a78-d104-921a7dc50942"
      },
      "execution_count": null,
      "outputs": [
        {
          "output_type": "stream",
          "name": "stdout",
          "text": [
            "\n",
            "Row-wise Mean (Avg per student): [87.   84.   89.75 68.75]\n",
            "\n",
            "Column-wise Mean (Avg per test): [80.25 83.5  83.75 82.  ]\n"
          ]
        }
      ]
    },
    {
      "cell_type": "code",
      "source": [
        "row_std = np.std(scores, axis=1)\n",
        "row_var = np.var(scores, axis=1)\n",
        "print(\"\\nRow-wise Standard Deviation:\", row_std)\n",
        "print(\"Row-wise Variance:\", row_var)\n",
        "\n",
        "col_std = np.std(scores, axis=0)\n",
        "col_var = np.var(scores, axis=0)\n",
        "print(\"\\nColumn-wise Standard Deviation:\", col_std)\n",
        "print(\"Column-wise Variance:\", col_var)"
      ],
      "metadata": {
        "colab": {
          "base_uri": "https://localhost:8080/"
        },
        "id": "nKJBQ14_6RLm",
        "outputId": "340ef9fd-6c40-49f8-a9d2-fbef63eadb59"
      },
      "execution_count": null,
      "outputs": [
        {
          "output_type": "stream",
          "name": "stdout",
          "text": [
            "\n",
            "Row-wise Standard Deviation: [6.28490254 6.32455532 2.16506351 2.58602011]\n",
            "Row-wise Variance: [39.5    40.      4.6875  6.6875]\n",
            "\n",
            "Column-wise Standard Deviation: [ 9.90896059  8.20060973  8.31790238 10.60660172]\n",
            "Column-wise Variance: [ 98.1875  67.25    69.1875 112.5   ]\n"
          ]
        }
      ]
    },
    {
      "cell_type": "code",
      "source": [
        "global_max = np.max(scores)\n",
        "global_min = np.min(scores)\n",
        "print(\"\\nGlobal Max:\", global_max)\n",
        "print(\"Global Min:\", global_min)\n"
      ],
      "metadata": {
        "colab": {
          "base_uri": "https://localhost:8080/"
        },
        "id": "n1OaY1C86RJS",
        "outputId": "c460f67d-65de-4d09-b325-6b0c77e02fd4"
      },
      "execution_count": null,
      "outputs": [
        {
          "output_type": "stream",
          "name": "stdout",
          "text": [
            "\n",
            "Global Max: 95\n",
            "Global Min: 65\n"
          ]
        }
      ]
    },
    {
      "cell_type": "code",
      "source": [
        "max_idx = np.unravel_index(np.argmax(scores), scores.shape)\n",
        "min_idx = np.unravel_index(np.argmin(scores), scores.shape)\n",
        "print(\"Index of Global Max:\", max_idx)\n",
        "print(\"Index of Global Min:\", min_idx)"
      ],
      "metadata": {
        "colab": {
          "base_uri": "https://localhost:8080/"
        },
        "id": "1UVrzX3x6RHF",
        "outputId": "3b48e30a-d7db-4c9d-9b89-1cae29a07b7b"
      },
      "execution_count": null,
      "outputs": [
        {
          "output_type": "stream",
          "name": "stdout",
          "text": [
            "Index of Global Max: (np.int64(0), np.int64(3))\n",
            "Index of Global Min: (np.int64(3), np.int64(0))\n"
          ]
        }
      ]
    },
    {
      "cell_type": "code",
      "source": [
        "image = np.random.randint(0, 256, size=(3, 3, 3), dtype=np.uint8)\n",
        "\n",
        "print(\"Original RGB Image Matrix:\\n\", image)\n",
        "\n",
        "red_channel = image[:, :, 0]\n",
        "green_channel = image[:, :, 1]\n",
        "blue_channel = image[:, :, 2]\n",
        "\n",
        "print(\"\\nRed Channel:\\n\", red_channel)\n",
        "print(\"\\nGreen Channel:\\n\", green_channel)\n",
        "print(\"\\nBlue Channel:\\n\", blue_channel)\n",
        "\n"
      ],
      "metadata": {
        "colab": {
          "base_uri": "https://localhost:8080/"
        },
        "id": "dpPs6E-x6REm",
        "outputId": "987e2ca3-6235-4c68-dca5-d4ecf3087c01"
      },
      "execution_count": null,
      "outputs": [
        {
          "output_type": "stream",
          "name": "stdout",
          "text": [
            "Original RGB Image Matrix:\n",
            " [[[ 79   7 145]\n",
            "  [230 180 209]\n",
            "  [ 61 252  26]]\n",
            "\n",
            " [[  7  39  28]\n",
            "  [252  72 121]\n",
            "  [145   8 248]]\n",
            "\n",
            " [[ 64 109  20]\n",
            "  [ 91  38 138]\n",
            "  [129  54  97]]]\n",
            "\n",
            "Red Channel:\n",
            " [[ 79 230  61]\n",
            " [  7 252 145]\n",
            " [ 64  91 129]]\n",
            "\n",
            "Green Channel:\n",
            " [[  7 180 252]\n",
            " [ 39  72   8]\n",
            " [109  38  54]]\n",
            "\n",
            "Blue Channel:\n",
            " [[145 209  26]\n",
            " [ 28 121 248]\n",
            " [ 20 138  97]]\n"
          ]
        }
      ]
    },
    {
      "cell_type": "code",
      "source": [
        "avg_red = np.mean(red_channel)\n",
        "avg_green = np.mean(green_channel)\n",
        "avg_blue = np.mean(blue_channel)\n",
        "\n",
        "print(\"\\nAverage Red Intensity:\", avg_red)\n",
        "print(\"Average Green Intensity:\", avg_green)\n",
        "print(\"Average Blue Intensity:\", avg_blue)"
      ],
      "metadata": {
        "colab": {
          "base_uri": "https://localhost:8080/"
        },
        "id": "BL_p2kAB8C7l",
        "outputId": "8ecb5fe8-9651-4318-a8a7-793a5a9229a3"
      },
      "execution_count": null,
      "outputs": [
        {
          "output_type": "stream",
          "name": "stdout",
          "text": [
            "\n",
            "Average Red Intensity: 117.55555555555556\n",
            "Average Green Intensity: 84.33333333333333\n",
            "Average Blue Intensity: 114.66666666666667\n"
          ]
        }
      ]
    },
    {
      "cell_type": "code",
      "source": [
        "brightened_image = np.clip(image + 50, 0, 255)\n",
        "\n",
        "print(\"\\nBrightened Image Matrix:\\n\", brightened_image)\n",
        "\n",
        "fig, axs = plt.subplots(1, 2, figsize=(8, 4))\n",
        "axs[0].imshow(image)\n",
        "axs[0].set_title('Original RGB Image')\n",
        "axs[0].axis('off')\n",
        "\n",
        "axs[1].imshow(brightened_image)\n",
        "axs[1].set_title('Brightened RGB Image')\n",
        "axs[1].axis('off')\n",
        "\n",
        "plt.tight_layout()\n",
        "plt.show()"
      ],
      "metadata": {
        "colab": {
          "base_uri": "https://localhost:8080/",
          "height": 646
        },
        "id": "G4icXLk98C5i",
        "outputId": "0b272a37-5b8e-40ae-b197-ac1caa39b5f1"
      },
      "execution_count": null,
      "outputs": [
        {
          "output_type": "stream",
          "name": "stdout",
          "text": [
            "\n",
            "Brightened Image Matrix:\n",
            " [[[129  57 195]\n",
            "  [ 24 230   3]\n",
            "  [111  46  76]]\n",
            "\n",
            " [[ 57  89  78]\n",
            "  [ 46 122 171]\n",
            "  [195  58  42]]\n",
            "\n",
            " [[114 159  70]\n",
            "  [141  88 188]\n",
            "  [179 104 147]]]\n"
          ]
        },
        {
          "output_type": "display_data",
          "data": {
            "text/plain": [
              "<Figure size 800x400 with 2 Axes>"
            ],
            "image/png": "[encoded data removed]"
          },
          "metadata": {}
        }
      ]
    },
    {
      "cell_type": "code",
      "source": [],
      "metadata": {
        "id": "pff3yROr8C3F"
      },
      "execution_count": null,
      "outputs": []
    }
  ]
}