{
  "nbformat": 4,
  "nbformat_minor": 0,
  "metadata": {
    "colab": {
      "provenance": [],
      "authorship_tag": "ABX9TyPKJWk1dVEmNf//Nfwmnc3A",
      "include_colab_link": true
    },
    "kernelspec": {
      "name": "python3",
      "display_name": "Python 3"
    },
    "language_info": {
      "name": "python"
    }
  },
  "cells": [
    {
      "cell_type": "markdown",
      "metadata": {
        "id": "view-in-github",
        "colab_type": "text"
      },
      "source": [
        "<a href=\"https://colab.research.google.com/github/bhargavbandloju/PDS_B24-2303A51747/blob/main/LAB2_2.ipynb\" target=\"_parent\"><img src=\"https://colab.research.google.com/assets/colab-badge.svg\" alt=\"Open In Colab\"/></a>"
      ]
    },
    {
      "cell_type": "code",
      "execution_count": 1,
      "metadata": {
        "id": "b0o36tZrCkAt"
      },
      "outputs": [],
      "source": [
        "import pandas as pd\n"
      ]
    },
    {
      "cell_type": "code",
      "source": [
        "data = {\n",
        "      'Order ID': [101, 102, 103, 104, 105, 106, 107],\n",
        "          'Product': ['Laptop', 'Mouse', 'Monitor', 'Keyboard', 'Chair', 'Desk', 'Laptop'],\n",
        "              'Quantity': [1, 5, 2, 4, 3, 2, 1],\n",
        "                  'Price': [75000, 300, 12000, 1500, 3500, 7000, 75000]\n",
        "}\n",
        "\n",
        "df = pd.DataFrame(data)\n",
        "print(\"Original DataFrame:\\n\", df)\n",
        "\n"
      ],
      "metadata": {
        "colab": {
          "base_uri": "https://localhost:8080/"
        },
        "id": "PJSXfqTOCt7I",
        "outputId": "fcbc88a9-adb1-4d63-d412-4db4b7c870b0"
      },
      "execution_count": 7,
      "outputs": [
        {
          "output_type": "stream",
          "name": "stdout",
          "text": [
            "Original DataFrame:\n",
            "    Order ID   Product  Quantity  Price\n",
            "0       101    Laptop         1  75000\n",
            "1       102     Mouse         5    300\n",
            "2       103   Monitor         2  12000\n",
            "3       104  Keyboard         4   1500\n",
            "4       105     Chair         3   3500\n",
            "5       106      Desk         2   7000\n",
            "6       107    Laptop         1  75000\n"
          ]
        }
      ]
    },
    {
      "cell_type": "code",
      "source": [
        "df['Total Sale'] = df['Quantity'] * df['Price']\n",
        "print(\"\\nWith Total Sale:\\n\", df)"
      ],
      "metadata": {
        "colab": {
          "base_uri": "https://localhost:8080/"
        },
        "id": "SUoPyvTODSLD",
        "outputId": "07ee4485-435c-4e0f-a452-7f64305208e1"
      },
      "execution_count": 8,
      "outputs": [
        {
          "output_type": "stream",
          "name": "stdout",
          "text": [
            "\n",
            "With Total Sale:\n",
            "    Order ID   Product  Quantity  Price  Total Sale\n",
            "0       101    Laptop         1  75000       75000\n",
            "1       102     Mouse         5    300        1500\n",
            "2       103   Monitor         2  12000       24000\n",
            "3       104  Keyboard         4   1500        6000\n",
            "4       105     Chair         3   3500       10500\n",
            "5       106      Desk         2   7000       14000\n",
            "6       107    Laptop         1  75000       75000\n"
          ]
        }
      ]
    },
    {
      "cell_type": "code",
      "source": [
        "high_value_orders = df[df['Total Sale'] > 1000]\n",
        "print(\"\\nOrders with Total Sale > 1000:\\n\", high_value_orders)\n"
      ],
      "metadata": {
        "colab": {
          "base_uri": "https://localhost:8080/"
        },
        "id": "EnVVym3cDXnG",
        "outputId": "8d562482-156c-4f42-bab2-b0e13047ff3a"
      },
      "execution_count": 9,
      "outputs": [
        {
          "output_type": "stream",
          "name": "stdout",
          "text": [
            "\n",
            "Orders with Total Sale > 1000:\n",
            "    Order ID   Product  Quantity  Price  Total Sale\n",
            "0       101    Laptop         1  75000       75000\n",
            "1       102     Mouse         5    300        1500\n",
            "2       103   Monitor         2  12000       24000\n",
            "3       104  Keyboard         4   1500        6000\n",
            "4       105     Chair         3   3500       10500\n",
            "5       106      Desk         2   7000       14000\n",
            "6       107    Laptop         1  75000       75000\n"
          ]
        }
      ]
    },
    {
      "cell_type": "code",
      "source": [
        "product_sales = df.groupby('Product')['Quantity'].sum().reset_index()\n",
        "most_sold_product = product_sales.sort_values(by='Quantity', ascending=False).iloc[0]\n",
        "print(\"\\nMost Sold Product:\\n\", most_sold_product)\n"
      ],
      "metadata": {
        "colab": {
          "base_uri": "https://localhost:8080/"
        },
        "id": "qvumz7uzDcTD",
        "outputId": "613c9005-0696-474e-a504-83eaf6e4be0a"
      },
      "execution_count": 10,
      "outputs": [
        {
          "output_type": "stream",
          "name": "stdout",
          "text": [
            "\n",
            "Most Sold Product:\n",
            " Product     Mouse\n",
            "Quantity        5\n",
            "Name: 5, dtype: object\n"
          ]
        }
      ]
    },
    {
      "cell_type": "code",
      "source": [
        "def discount_rule(sale):\n",
        "      if sale > 50000:\n",
        "              return 0.10  # 10% discount\n",
        "      elif sale > 10000:\n",
        "              return 0.05  # 5% discount\n",
        "      else:\n",
        "              return 0.00  # no discount\n",
        "\n",
        "df['Discount Rate'] = df['Total Sale'].apply(discount_rule)\n",
        "df['Discount Amount'] = df['Total Sale'] * df['Discount Rate']\n",
        "df['Final Amount'] = df['Total Sale'] - df['Discount Amount']\n",
        "\n",
        "print(\"\\nDataFrame with Discount Info:\\n\", df)\n"
      ],
      "metadata": {
        "colab": {
          "base_uri": "https://localhost:8080/"
        },
        "id": "Gx7R4yseDjUF",
        "outputId": "f345ffdb-5a53-4cea-8912-438bd0d3497e"
      },
      "execution_count": 12,
      "outputs": [
        {
          "output_type": "stream",
          "name": "stdout",
          "text": [
            "\n",
            "DataFrame with Discount Info:\n",
            "    Order ID   Product  Quantity  Price  Total Sale  Discount Rate  \\\n",
            "0       101    Laptop         1  75000       75000           0.10   \n",
            "1       102     Mouse         5    300        1500           0.00   \n",
            "2       103   Monitor         2  12000       24000           0.05   \n",
            "3       104  Keyboard         4   1500        6000           0.00   \n",
            "4       105     Chair         3   3500       10500           0.05   \n",
            "5       106      Desk         2   7000       14000           0.05   \n",
            "6       107    Laptop         1  75000       75000           0.10   \n",
            "\n",
            "   Discount Amount  Final Amount  \n",
            "0           7500.0       67500.0  \n",
            "1              0.0        1500.0  \n",
            "2           1200.0       22800.0  \n",
            "3              0.0        6000.0  \n",
            "4            525.0        9975.0  \n",
            "5            700.0       13300.0  \n",
            "6           7500.0       67500.0  \n"
          ]
        }
      ]
    },
    {
      "cell_type": "code",
      "source": [
        "summary_filename = \"ecommerce_sales_summary.xlsx\"\n",
        "df.to_excel(summary_filename, index=False)\n",
        "print(f\"\\nSummary exported to {summary_filename}\")"
      ],
      "metadata": {
        "colab": {
          "base_uri": "https://localhost:8080/"
        },
        "id": "GprgG_x3Eigl",
        "outputId": "7fdd8819-1e6b-456c-8eca-9d2c62861820"
      },
      "execution_count": 13,
      "outputs": [
        {
          "output_type": "stream",
          "name": "stdout",
          "text": [
            "\n",
            "Summary exported to ecommerce_sales_summary.xlsx\n"
          ]
        }
      ]
    }
  ]
}